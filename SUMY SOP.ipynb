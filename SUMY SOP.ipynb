{
 "cells": [
  {
   "cell_type": "code",
   "execution_count": 1,
   "id": "c2bef8c7",
   "metadata": {},
   "outputs": [],
   "source": [
    "import numpy as np\n",
    "import pandas as pd\n",
    "from docplex.mp.model import Model\n",
    "import glob\n",
    "from collections import Counter\n",
    "import time\n",
    "\n",
    "from vrp_eval import *\n",
    "from mat_functs import *"
   ]
  },
  {
   "cell_type": "code",
   "execution_count": 2,
   "id": "f2326de5",
   "metadata": {},
   "outputs": [],
   "source": [
    "file_list = [file for file in sorted(glob.glob(\"*.csv\")) if 'DIMANCHE' in file]\n",
    "n_test = 7\n",
    "weighing = 'unif'"
   ]
  },
  {
   "cell_type": "code",
   "execution_count": 3,
   "id": "dfb61ef4",
   "metadata": {},
   "outputs": [],
   "source": [
    "# https://stackoverflow.com/questions/47432632/flatten-multi-dimensional-array-in-python-3\n",
    "def flatten(something):\n",
    "    if isinstance(something, (list, tuple, set, range)):\n",
    "        for sub in something:\n",
    "            yield from flatten(sub)\n",
    "    else:\n",
    "        yield something"
   ]
  },
  {
   "cell_type": "code",
   "execution_count": null,
   "id": "f9cc9bf2",
   "metadata": {},
   "outputs": [],
   "source": []
  }
 ],
 "metadata": {
  "kernelspec": {
   "display_name": "Python 3 (ipykernel)",
   "language": "python",
   "name": "python3"
  },
  "language_info": {
   "codemirror_mode": {
    "name": "ipython",
    "version": 3
   },
   "file_extension": ".py",
   "mimetype": "text/x-python",
   "name": "python",
   "nbconvert_exporter": "python",
   "pygments_lexer": "ipython3",
   "version": "3.9.12"
  }
 },
 "nbformat": 4,
 "nbformat_minor": 5
}
