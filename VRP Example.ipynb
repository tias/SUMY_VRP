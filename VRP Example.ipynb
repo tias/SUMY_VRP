{
 "cells": [
  {
   "cell_type": "code",
   "execution_count": 1,
   "id": "de338bfb",
   "metadata": {},
   "outputs": [],
   "source": [
    "import numpy as np\n",
    "from docplex.mp.model import Model\n",
    "import matplotlib.pyplot as plt\n",
    "\n",
    "import sys\n",
    "import os"
   ]
  },
  {
   "cell_type": "code",
   "execution_count": 2,
   "id": "73b7a1b5",
   "metadata": {},
   "outputs": [],
   "source": [
    "# Define a problem:\n",
    "rnd = np.random\n",
    "rnd.seed(0)\n",
    "\n",
    "n = 25\n",
    "Q = 15\n",
    "N = [i for i in range(1, n+1)]\n",
    "V = [0] + N\n",
    "q = {i:rnd.randint(1,10) for i in N}\n",
    "\n",
    "loc_x = rnd.rand(len(V))*200\n",
    "loc_y = rnd.rand(len(V))*100\n",
    "\n",
    "A = [(i, j) for i in V for j in V if i!=j] # List of Arcs\n",
    "c = {(i,j): round(np.hypot(loc_x[i]-loc_x[j], loc_y[i]-loc_y[j])) for i, j in A} # Dictionary of distances/costs"
   ]
  },
  {
   "cell_type": "code",
   "execution_count": 3,
   "id": "1fb0f0ad",
   "metadata": {},
   "outputs": [],
   "source": [
    "# Create a CPLEX model:\n",
    "mdl = Model('CVRP')"
   ]
  },
  {
   "cell_type": "code",
   "execution_count": 4,
   "id": "542ac562",
   "metadata": {},
   "outputs": [],
   "source": [
    "# Define arcs and capacities:\n",
    "x = mdl.binary_var_dict(A, name= 'x')\n",
    "u = mdl.continuous_var_dict(N, ub= Q, name= 'u')"
   ]
  },
  {
   "cell_type": "code",
   "execution_count": 5,
   "id": "59468ea0",
   "metadata": {},
   "outputs": [],
   "source": [
    "# Define objective function:\n",
    "mdl.minimize(mdl.sumsq(c[i,j]*x[i,j] for i, j in A))"
   ]
  },
  {
   "cell_type": "code",
   "execution_count": 6,
   "id": "598df6fe",
   "metadata": {},
   "outputs": [],
   "source": [
    "# Add constraints:\n",
    "mdl.add_constraints(mdl.sum(x[i,j] for j in V if j != i) == 1 for i in N) # Each point must be visited\n",
    "mdl.add_constraints(mdl.sum(x[i,j] for i in V if i != j) == 1 for j in N) # Each point must be left\n",
    "mdl.add_indicator_constraints(mdl.indicator_constraint(x[i,j], u[i]+q[j] == u[j]) for i,j in A if i!=0 and j!=0)\n",
    "mdl.add_constraints(u[i] >= q[i] for i in N)\n",
    "mdl.parameters.timelimit = 15 # Add running time limit"
   ]
  },
  {
   "cell_type": "code",
   "execution_count": 7,
   "id": "1cf309fb",
   "metadata": {},
   "outputs": [
    {
     "name": "stdout",
     "output_type": "stream",
     "text": [
      "Version identifier: 22.1.0.0 | 2022-03-09 | 1a383f8ce\n",
      "CPXPARAM_Read_DataCheck                          1\n",
      "CPXPARAM_TimeLimit                               15\n",
      "Found incumbent of value 715482.000000 after 0.00 sec. (0.07 ticks)\n",
      "Tried aggregator 2 times.\n",
      "MIQP Presolve eliminated 25 rows and 72 columns.\n",
      "MIQP Presolve modified 914 coefficients.\n",
      "Aggregator did 264 substitutions.\n",
      "Reduced MIQP has 354 rows, 867 columns, and 1978 nonzeros.\n",
      "Reduced MIQP has 578 binaries, 0 generals, 0 SOSs, and 528 indicators.\n",
      "Presolve time = 0.01 sec. (1.78 ticks)\n",
      "Probing time = 0.02 sec. (4.25 ticks)\n",
      "Tried aggregator 1 time.\n",
      "Detecting symmetries...\n",
      "Reduced MIP has 354 rows, 867 columns, and 1978 nonzeros.\n",
      "Reduced MIP has 578 binaries, 0 generals, 0 SOSs, and 528 indicators.\n",
      "Presolve time = 0.01 sec. (1.79 ticks)\n",
      "Classifier predicts products in MIQP should be linearized.\n",
      "Probing time = 0.00 sec. (2.26 ticks)\n",
      "Clique table members: 1406.\n",
      "MIP emphasis: balance optimality and feasibility.\n",
      "MIP search method: dynamic search.\n",
      "Parallel mode: deterministic, using up to 8 threads.\n",
      "Root relaxation solution time = 0.01 sec. (0.87 ticks)\n",
      "\n",
      "        Nodes                                         Cuts/\n",
      "   Node  Left     Objective  IInf  Best Integer    Best Bound    ItCnt     Gap\n",
      "\n",
      "*     0+    0                       715482.0000        0.0000           100.00%\n",
      "*     0+    0                       700996.0000        0.0000           100.00%\n",
      "      0     0    10826.0000    32   700996.0000    10826.0000       42   98.46%\n",
      "      0     0    15004.0000    41   700996.0000     Cuts: 188       89   97.86%\n",
      "      0     0    19190.5000    30   700996.0000     Cuts: 153      169   97.26%\n",
      "      0     0    19541.0000    58   700996.0000     Cuts: 188      225   97.21%\n",
      "      0     0    20052.0000    19   700996.0000     Cuts: 162      269   97.14%\n",
      "      0     0    20372.0000    44   700996.0000     Cuts: 188      299   97.09%\n",
      "Detecting symmetries...\n",
      "      0     0    20858.0000    38   700996.0000     Cuts: 188      338   97.02%\n",
      "      0     0    21250.0000    39   700996.0000      Cuts: 60      369   96.97%\n",
      "      0     0    21297.0000    36   700996.0000     Cuts: 188      385   96.96%\n",
      "      0     0    21862.5000    49   700996.0000     Cuts: 188      411   96.88%\n",
      "      0     0    22838.5000    28   700996.0000      Cuts: 42      438   96.74%\n",
      "      0     0    23084.5000    53   700996.0000     Cuts: 188      457   96.71%\n",
      "      0     0    23694.3333    49   700996.0000      Cuts: 39      492   96.62%\n",
      "      0     0    23802.6667    60   700996.0000     Cuts: 188      509   96.60%\n",
      "      0     0    24291.5000    30   700996.0000      Cuts: 64      530   96.53%\n",
      "      0     0    24957.2500    61   700996.0000     Cuts: 188      566   96.44%\n",
      "      0     0    26081.2500    41   700996.0000      Cuts: 66      619   96.28%\n",
      "      0     0    26739.6667    56   700996.0000      Cuts: 69      660   96.19%\n",
      "*     0+    0                       293305.0000    26739.6667            90.88%\n",
      "      0     0    27028.1667    54   293305.0000     Cuts: 115      692   90.78%\n",
      "      0     0    27107.0000    42   293305.0000     Cuts: 188      705   90.76%\n",
      "      0     0    27196.0000    51   293305.0000     Cuts: 129      724   90.73%\n",
      "      0     0    27433.0375    70   293305.0000      Cuts: 60      748   90.65%\n",
      "      0     0    27827.5000    64   293305.0000      Cuts: 68      771   90.51%\n",
      "      0     0    28519.6000    59   293305.0000      Cuts: 43      803   90.28%\n",
      "      0     0    28719.3636    60   293305.0000      Cuts: 75      825   90.21%\n",
      "      0     0    29029.4324    65   293305.0000      Cuts: 35      848   90.10%\n",
      "      0     0    29092.2000    60   293305.0000      Cuts: 77      865   90.08%\n",
      "      0     0    29117.7273    67   293305.0000      Cuts: 26      877   90.07%\n",
      "      0     0    29171.6667    51   293305.0000      Cuts: 37      895   90.05%\n",
      "      0     0    29197.5833    64   293305.0000      Cuts: 70      908   90.05%\n",
      "      0     0    29331.0000    47   293305.0000      Cuts: 15      925   90.00%\n",
      "      0     0    29372.9630    71   293305.0000      Cuts: 39      937   89.99%\n",
      "      0     0    29490.4524    77   293305.0000      Cuts: 41      959   89.95%\n",
      "      0     0    29622.2899    78   293305.0000      Cuts: 34      986   89.90%\n",
      "      0     0    29684.1429    73   293305.0000      Cuts: 28     1005   89.88%\n",
      "      0     0    29807.7429    71   293305.0000      Cuts: 64     1033   89.84%\n",
      "      0     0    29836.1529    75   293305.0000      Cuts: 39     1042   89.83%\n",
      "      0     0    29868.6429    65   293305.0000      Cuts: 15     1054   89.82%\n",
      "      0     0    30085.0000    54   293305.0000      Cuts: 50     1087   89.74%\n",
      "      0     0    30160.0000    42   293305.0000      Cuts: 67     1107   89.72%\n",
      "      0     0    30214.1250    72   293305.0000     Cuts: 164     1131   89.70%\n",
      "      0     0    30214.3750    71   293305.0000      Cuts: 20     1144   89.70%\n",
      "      0     0    30232.8718    76   293305.0000      Cuts: 12     1161   89.69%\n",
      "      0     0    30277.3333    55   293305.0000      Cuts: 93     1206   89.68%\n",
      "      0     0    30341.0909    71   293305.0000     Cuts: 107     1232   89.66%\n",
      "      0     0    30367.0000    47   293305.0000      Cuts: 57     1254   89.65%\n",
      "      0     0    30376.4000    69   293305.0000      Cuts: 29     1264   89.64%\n",
      "Detecting symmetries...\n",
      "      0     2    30376.4000    69   293305.0000    30376.4000     1264   89.64%\n",
      "Elapsed time = 1.03 sec. (260.37 ticks, tree = 0.02 MB, solutions = 3)\n",
      "\n",
      "Performing restart 1\n",
      "\n",
      "Repeating presolve.\n",
      "Tried aggregator 1 time.\n",
      "Reduced MIP has 354 rows, 867 columns, and 1978 nonzeros.\n",
      "Reduced MIP has 578 binaries, 0 generals, 0 SOSs, and 528 indicators.\n",
      "Presolve time = 0.01 sec. (1.40 ticks)\n",
      "Tried aggregator 1 time.\n",
      "Reduced MIP has 354 rows, 867 columns, and 1978 nonzeros.\n",
      "Reduced MIP has 578 binaries, 0 generals, 0 SOSs, and 528 indicators.\n",
      "Presolve time = 0.01 sec. (1.88 ticks)\n",
      "Represolve time = 0.08 sec. (12.56 ticks)\n",
      "   1878     0    30387.4389    74   293305.0000       Cuts: 5    26757   89.63%\n",
      "   1878     0    30390.0625    78   293305.0000      Cuts: 11    26766   89.63%\n",
      "   1878     0    30457.5714    67   293305.0000      Cuts: 26    26807   89.62%\n",
      "   1878     0    30510.0930    69   293305.0000      Cuts: 93    26851   89.60%\n",
      "   1878     0    30570.0000    58   293305.0000      Cuts: 81    26890   89.58%\n",
      "   1878     0    30606.0000    33   293305.0000      Cuts: 40    26914   89.57%\n",
      "   1878     0    30670.4045    70   293305.0000     Cuts: 188    26964   89.54%\n",
      "   1878     0    30774.1111    70   293305.0000      Cuts: 40    26992   89.51%\n",
      "   1878     0    30812.8125    65   293305.0000      Cuts: 53    27016   89.49%\n",
      "   1878     0    30821.5459    82   293305.0000      Cuts: 72    27039   89.49%\n",
      "   1878     0    30844.1064    70   293305.0000      Cuts: 11    27059   89.48%\n",
      "   1878     0    30880.9790    79   293305.0000      Cuts: 74    27096   89.47%\n",
      "   1878     0    30920.5923    72   293305.0000     Cuts: 105    27120   89.46%\n",
      "   1878     0    30941.6250    69   293305.0000      Cuts: 21    27135   89.45%\n",
      "   1878     0    30945.0146    82   293305.0000      Cuts: 55    27155   89.45%\n",
      "   1878     0    30997.4167    76   293305.0000      Cuts: 11    27174   89.43%\n",
      "   1878     0    31129.5278    74   293305.0000     Cuts: 124    27229   89.39%\n",
      "   1878     0    31166.9455    78   293305.0000      Cuts: 48    27247   89.37%\n",
      "   1878     0    31336.4545    58   293305.0000      Cuts: 44    27275   89.32%\n",
      "   1878     0    31410.0174    79   293305.0000     Cuts: 124    27323   89.29%\n",
      "   1878     0    31666.0748    70   293305.0000      Cuts: 54    27353   89.20%\n",
      "   1878     0    31849.1690    81   293305.0000     Cuts: 157    27408   89.14%\n",
      "   1878     0    31923.8158    74   293305.0000      Cuts: 26    27434   89.12%\n",
      "   1878     0    32086.9167    80   293305.0000      Cuts: 57    27462   89.06%\n",
      "   1878     0    32244.7188    78   293305.0000      Cuts: 66    27503   89.01%\n",
      "   1878     0    32514.3750    52   293305.0000      Cuts: 39    27577   88.91%\n",
      "   1878     0    32577.0000    54   293305.0000     Cuts: 100    27631   88.89%\n",
      "   1878     0    32601.3333    57   293305.0000      Cuts: 69    27661   88.88%\n",
      "   1878     0    32608.5000    63   293305.0000      Cuts: 62    27679   88.88%\n"
     ]
    },
    {
     "name": "stdout",
     "output_type": "stream",
     "text": [
      "   1878     0    32617.7000    78   293305.0000      Cuts: 63    27694   88.88%\n",
      "   1878     0    32658.1429    72   293305.0000      Cuts: 26    27716   88.87%\n",
      "   1878     0    32733.3333    57   293305.0000      Cuts: 66    27746   88.84%\n",
      "   1878     0    32818.3455    72   293305.0000      Cuts: 83    27815   88.81%\n",
      "   1878     0    32828.7797    72   293305.0000      Cuts: 71    27835   88.81%\n",
      "   1878     0    32874.8714    66   293305.0000      Cuts: 24    27851   88.79%\n",
      "   1878     0    32971.1636    68   293305.0000      Cuts: 94    27882   88.76%\n",
      "   1878     0    33116.1250    65   293305.0000      Cuts: 50    27927   88.71%\n",
      "   1878     0    33185.0000    51   293305.0000     Cuts: 117    27950   88.69%\n",
      "   1878     0    33369.6429    78   293305.0000      Cuts: 42    28003   88.62%\n",
      "   1878     0    33733.2500    63   293305.0000     Cuts: 100    28034   88.50%\n",
      "   1878     0    33845.5429    67   293305.0000     Cuts: 116    28067   88.46%\n",
      "   1878     0    33907.8095    72   293305.0000      Cuts: 67    28090   88.44%\n",
      "   1878     0    34003.6857    79   293305.0000      Cuts: 35    28105   88.41%\n",
      "   1878     0    34090.4048    79   293305.0000      Cuts: 17    28120   88.38%\n",
      "   1878     0    34557.1667    64   293305.0000      Cuts: 71    28169   88.22%\n",
      "   1878     0    34729.6000    75   293305.0000     Cuts: 121    28216   88.16%\n",
      "   1878     0    34817.3333    75   293305.0000      Cuts: 46    28239   88.13%\n",
      "   1878     0    34921.3750    68   293305.0000      Cuts: 16    28258   88.09%\n",
      "   1878     0    34954.3824    75   293305.0000      Cuts: 77    28282   88.08%\n",
      "   1878     0    34956.6667    67   293305.0000      Cuts: 42    28297   88.08%\n",
      "   1878     0    34957.0000    55   293305.0000      Cuts: 13    28306   88.08%\n",
      "   1878     0    34985.1111    80   293305.0000     Cuts: 137    28357   88.07%\n",
      "   1878     0    35044.3800    75   293305.0000      Cuts: 71    28398   88.05%\n",
      "   1878     0    35105.9643    77   293305.0000      Cuts: 40    28413   88.03%\n",
      "   1878     0    35166.1389    80   293305.0000     Cuts: 106    28449   88.01%\n",
      "   1878     0    35171.1331    83   293305.0000      Cuts: 81    28472   88.01%\n",
      "   1878     2    35171.1331    83   293305.0000    35171.1331    28472   88.01%\n",
      "   3598  1195   106304.0000    15   293305.0000    36110.0000    46877   87.69%\n",
      "   5685  2790   160124.3111    29   293305.0000    37113.6667    80179   87.35%\n",
      "   7956  4789    60587.2801    64   293305.0000    39135.1284   119135   86.66%\n",
      "  10033  6424    59241.9731    61   293305.0000    46658.8854   165895   84.09%\n",
      "  12264  8142   256072.0000     6   293305.0000    48282.5000   205279   83.54%\n",
      "  13972  9526    57393.6063    62   293305.0000    50504.1000   246839   82.78%\n",
      "  16186 10746   284761.0000     4   293305.0000    51425.3667   276775   82.47%\n",
      "  18106 12213   209435.9000    24   293305.0000    52987.8277   324933   81.93%\n",
      "Starting limited solution polishing.\n",
      "  24960 17053    60606.5822    63   293305.0000    56089.8848   490951   80.88%\n",
      "Elapsed time = 13.95 sec. (3963.92 ticks, tree = 13.15 MB, solutions = 3)\n",
      "\n",
      "Clique cuts applied:  21\n",
      "Cover cuts applied:  291\n",
      "Implied bound cuts applied:  348\n",
      "Flow cuts applied:  9\n",
      "Mixed integer rounding cuts applied:  25\n",
      "Zero-half cuts applied:  81\n",
      "Gomory fractional cuts applied:  2\n",
      "\n",
      "Root node processing (before b&c):\n",
      "  Real time             =    1.03 sec. (260.02 ticks)\n",
      "Parallel b&c, 8 threads:\n",
      "  Real time             =   14.02 sec. (4028.49 ticks)\n",
      "  Sync time (average)   =    1.50 sec.\n",
      "  Wait time (average)   =    0.04 sec.\n",
      "                          ------------\n",
      "Total (root+branch&cut) =   15.05 sec. (4288.50 ticks)\n"
     ]
    }
   ],
   "source": [
    "# Solving model:\n",
    "solution = mdl.solve(log_output=True)"
   ]
  },
  {
   "cell_type": "code",
   "execution_count": 8,
   "id": "f3ccccca",
   "metadata": {},
   "outputs": [
    {
     "name": "stdout",
     "output_type": "stream",
     "text": [
      "JobSolveStatus.FEASIBLE_SOLUTION\n"
     ]
    }
   ],
   "source": [
    "# print(solution)\n",
    "print(solution.solve_status) # Returns if the solution is Optimal or just Feasible"
   ]
  },
  {
   "cell_type": "code",
   "execution_count": 9,
   "id": "1c97b3b0",
   "metadata": {},
   "outputs": [
    {
     "name": "stdout",
     "output_type": "stream",
     "text": [
      "[(0, 5), (0, 8), (0, 10), (0, 13), (0, 14), (0, 16), (0, 17), (0, 18), (0, 20), (0, 21), (1, 0), (2, 24), (3, 6), (4, 0), (5, 9), (6, 0), (7, 23), (8, 7), (9, 0), (10, 4), (11, 0), (12, 0), (13, 1), (14, 22), (15, 0), (16, 11), (17, 15), (18, 25), (19, 0), (20, 12), (21, 0), (22, 3), (23, 2), (24, 0), (25, 19)]\n"
     ]
    }
   ],
   "source": [
    "active_arcs = [a for a in A if x[a].solution_value > 0.9]\n",
    "print(active_arcs)"
   ]
  },
  {
   "cell_type": "code",
   "execution_count": 10,
   "id": "084a6496",
   "metadata": {},
   "outputs": [
    {
     "data": {
      "image/png": "[encoded data removed]",
      "text/plain": [
       "<Figure size 432x288 with 1 Axes>"
      ]
     },
     "metadata": {
      "needs_background": "light"
     },
     "output_type": "display_data"
    }
   ],
   "source": [
    "# Plot solution:\n",
    "plt.scatter(loc_x[1:], loc_y[1:], c='b')\n",
    "for i in N:\n",
    "    plt.annotate('$q_%d=%d$'%(i,q[i]), (loc_x[i]+2,loc_y[i]))\n",
    "for i, j in active_arcs:\n",
    "    plt.plot([loc_x[i], loc_x[j]], [loc_y[i], loc_y[j]], c='g', alpha=0.3)\n",
    "plt.plot(loc_x[0], loc_y[0], c='r', marker='s')\n",
    "plt.axis('equal')\n",
    "plt.show()"
   ]
  },
  {
   "cell_type": "code",
   "execution_count": null,
   "id": "27984ebf",
   "metadata": {},
   "outputs": [],
   "source": []
  }
 ],
 "metadata": {
  "kernelspec": {
   "display_name": "Python 3 (ipykernel)",
   "language": "python",
   "name": "python3"
  },
  "language_info": {
   "codemirror_mode": {
    "name": "ipython",
    "version": 3
   },
   "file_extension": ".py",
   "mimetype": "text/x-python",
   "name": "python",
   "nbconvert_exporter": "python",
   "pygments_lexer": "ipython3",
   "version": "3.9.12"
  }
 },
 "nbformat": 4,
 "nbformat_minor": 5
}
